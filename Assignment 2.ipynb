{
 "cells": [
  {
   "cell_type": "markdown",
   "id": "9fc897f7",
   "metadata": {},
   "source": [
    "### 1.What are the two values of the Boolean data type? How do you write them?"
   ]
  },
  {
   "cell_type": "markdown",
   "id": "2c286a58",
   "metadata": {},
   "source": [
    "### Answer: \n",
    "The two values of the Boolean data type are True and False. You write them exactly as shown, with the first letter capitalized, as \"True\" and \"False.\" These values represent the two possible states of Boolean logic, where True represents \"true\" or \"on,\" and False represents \"false\" or \"off.\" They are commonly used for logical operations and conditional expressions in programming."
   ]
  },
  {
   "cell_type": "markdown",
   "id": "026bae1c",
   "metadata": {},
   "source": [
    "### 2. What are the three different types of Boolean operators?"
   ]
  },
  {
   "cell_type": "markdown",
   "id": "c1c278b6",
   "metadata": {},
   "source": [
    "### Answer:\n",
    "The three different types of Boolean operators are:\n",
    "\n",
    "1. AND Operator (and): This operator returns True if both of its operands are True. If at least one of the operands is False, it returns False. In Python, it is represented as and.\n",
    "\n",
    "Example: True and True evaluates to True, while True and False evaluates to False.\n",
    "\n",
    "2. OR Operator (or): This operator returns True if at least one of its operands is True. It returns False only if both operands are False. In Python, it is represented as or.\n",
    "\n",
    "Example: True or False evaluates to True, while False or False evaluates to False.\n",
    "\n",
    "3. NOT Operator (not): This operator returns the opposite of its operand's Boolean value. If the operand is True, it returns False, and if the operand is False, it returns True. In Python, it is represented as not.\n",
    "\n",
    "Example: not True evaluates to False, while not False evaluates to True.\n",
    "\n",
    "Boolean operators are frequently used in programming for making decisions, filtering data, and performing logical operations."
   ]
  },
  {
   "cell_type": "markdown",
   "id": "70bf93a0",
   "metadata": {},
   "source": [
    "### 3. Make a list of each Boolean operator&#39;s truth tables (i.e. every possible combination of Boolean values for the operator and what it evaluate )."
   ]
  },
  {
   "cell_type": "markdown",
   "id": "3804e873",
   "metadata": {},
   "source": [
    "### Answer:\n",
    "Truth tables for Boolean operators:\n",
    "\n",
    "    and operator:\n",
    "        True and True evaluates to True\n",
    "        True and False evaluates to False\n",
    "        False and True evaluates to False\n",
    "        False and False evaluates to False\n",
    "\n",
    "    or operator:\n",
    "        True or True evaluates to True\n",
    "        True or False evaluates to True\n",
    "        False or True evaluates to True\n",
    "        False or False evaluates to False\n",
    "\n",
    "    not operator:\n",
    "        not True evaluates to False\n",
    "        not False evaluates to True"
   ]
  },
  {
   "cell_type": "markdown",
   "id": "f54addbb",
   "metadata": {},
   "source": [
    "### 4. What are the values of the following expressions?\n",
    "- (5 > 4) and (3 == 5)\n",
    "- not (5 > 4)\n",
    "- (5 > 4) or (3 == 5)\n",
    "- not ((5 > 4) or (3 == 5))\n",
    "- (True and True) and (True == False)\n",
    "- (not False) or (not True)"
   ]
  },
  {
   "cell_type": "code",
   "execution_count": 1,
   "id": "c760a8d1",
   "metadata": {},
   "outputs": [
    {
     "data": {
      "text/plain": [
       "False"
      ]
     },
     "execution_count": 1,
     "metadata": {},
     "output_type": "execute_result"
    }
   ],
   "source": [
    "(5 > 4) and (3 == 5)"
   ]
  },
  {
   "cell_type": "code",
   "execution_count": 2,
   "id": "054bed5e",
   "metadata": {},
   "outputs": [
    {
     "data": {
      "text/plain": [
       "False"
      ]
     },
     "execution_count": 2,
     "metadata": {},
     "output_type": "execute_result"
    }
   ],
   "source": [
    "not (5 > 4)"
   ]
  },
  {
   "cell_type": "code",
   "execution_count": 3,
   "id": "fddb1439",
   "metadata": {},
   "outputs": [
    {
     "data": {
      "text/plain": [
       "True"
      ]
     },
     "execution_count": 3,
     "metadata": {},
     "output_type": "execute_result"
    }
   ],
   "source": [
    "(5 > 4) or (3 == 5)"
   ]
  },
  {
   "cell_type": "code",
   "execution_count": 4,
   "id": "88ad5d82",
   "metadata": {},
   "outputs": [
    {
     "data": {
      "text/plain": [
       "False"
      ]
     },
     "execution_count": 4,
     "metadata": {},
     "output_type": "execute_result"
    }
   ],
   "source": [
    "not ((5 > 4) or (3 == 5))"
   ]
  },
  {
   "cell_type": "code",
   "execution_count": 5,
   "id": "92f683d1",
   "metadata": {},
   "outputs": [
    {
     "data": {
      "text/plain": [
       "False"
      ]
     },
     "execution_count": 5,
     "metadata": {},
     "output_type": "execute_result"
    }
   ],
   "source": [
    "(True and True) and (True == False)"
   ]
  },
  {
   "cell_type": "code",
   "execution_count": 6,
   "id": "1d465537",
   "metadata": {},
   "outputs": [
    {
     "data": {
      "text/plain": [
       "True"
      ]
     },
     "execution_count": 6,
     "metadata": {},
     "output_type": "execute_result"
    }
   ],
   "source": [
    "(not False) or (not True)"
   ]
  },
  {
   "cell_type": "markdown",
   "id": "42e6bfb3",
   "metadata": {},
   "source": [
    "### 5. What are the six comparison operators?"
   ]
  },
  {
   "cell_type": "markdown",
   "id": "98713d40",
   "metadata": {},
   "source": [
    "### Answer:\n",
    "The six comparison operators are used to compare values and expressions in programming. They are:\n",
    "\n",
    "1.    Equal To (==): Checks if two values are equal. Returns True if they are equal, and False otherwise.\n",
    "\n",
    "    Example: 5 == 5 evaluates to True, while 5 == 3 evaluates to False.\n",
    "\n",
    "2.    Not Equal To (!=): Checks if two values are not equal. Returns True if they are not equal, and False if they are equal.\n",
    "\n",
    "    Example: 5 != 3 evaluates to True, while 5 != 5 evaluates to False.\n",
    "\n",
    "3.    Less Than (<): Checks if the left operand is less than the right operand. Returns True if the condition is met, and False otherwise.\n",
    "\n",
    "    Example: 3 < 5 evaluates to True, while 5 < 3 evaluates to False.\n",
    "\n",
    "4.    Greater Than (>): Checks if the left operand is greater than the right operand. Returns True if the condition is met, and False otherwise.\n",
    "\n",
    "    Example: 5 > 3 evaluates to True, while 3 > 5 evaluates to False.\n",
    "\n",
    "5.    Less Than or Equal To (<=): Checks if the left operand is less than or equal to the right operand. Returns True if the condition is met, and False otherwise.\n",
    "\n",
    "    Example: 3 <= 5 evaluates to True, while 5 <= 3 evaluates to False.\n",
    "\n",
    "6.    Greater Than or Equal To (>=): Checks if the left operand is greater than or equal to the right operand. Returns True if the condition is met, and False otherwise.\n",
    "\n",
    "    Example: 5 >= 3 evaluates to True, while 3 >= 5 evaluates to False.\n",
    "\n",
    "These comparison operators are fundamental for making decisions and creating conditional expressions in programming.\n"
   ]
  },
  {
   "cell_type": "markdown",
   "id": "e12ac80c",
   "metadata": {},
   "source": [
    "### 6. How do you tell the difference between the equal to and assignment operators?Describe a condition and when you would use one."
   ]
  },
  {
   "cell_type": "markdown",
   "id": "06b27001",
   "metadata": {},
   "source": [
    "### Answer: \n",
    "The difference between the equal to (==) and assignment (=) operators is that == is used for comparison and checks if two values are equal, while = is used for assignment and assigns a value to a variable. For example:\n",
    "\n",
    "    To compare: if x == 5: (checks if x is equal to 5)\n",
    "    To assign: x = 5 (assigns the value 5 to the variable x)"
   ]
  },
  {
   "cell_type": "markdown",
   "id": "a9afeaa4",
   "metadata": {},
   "source": [
    "### 7. Identify the three blocks in this code:\n",
    "spam = 0\n",
    "if spam == 10:\n",
    "print('eggs')\n",
    "if spam > 5:\n",
    "print('bacon')\n",
    "else:\n",
    "print('ham')\n",
    "print('spam')\n",
    "print('spam')"
   ]
  },
  {
   "cell_type": "code",
   "execution_count": 8,
   "id": "a0b1c526",
   "metadata": {},
   "outputs": [
    {
     "name": "stdout",
     "output_type": "stream",
     "text": [
      "ham\n",
      "spam\n",
      "spam\n"
     ]
    }
   ],
   "source": [
    "spam = 0\n",
    "if spam == 10:\n",
    "    print('eggs')\n",
    "if spam > 5:\n",
    "    print('bacon')\n",
    "else:\n",
    "    print('ham')\n",
    "    print('spam')\n",
    "    print('spam')"
   ]
  },
  {
   "cell_type": "markdown",
   "id": "507a664b",
   "metadata": {},
   "source": [
    "### 8. Write code that prints Hello if 1 is stored in spam, prints Howdy if 2 is stored in spam, and prints Greetings! if anything else is stored in spam."
   ]
  },
  {
   "cell_type": "code",
   "execution_count": 10,
   "id": "f30739ed",
   "metadata": {},
   "outputs": [
    {
     "name": "stdout",
     "output_type": "stream",
     "text": [
      "Howdy\n"
     ]
    }
   ],
   "source": [
    "spam = 2\n",
    "if spam == 1:\n",
    "    print('Hello')\n",
    "elif spam == 2:\n",
    "    print('Howdy')\n",
    "else:\n",
    "    print('Greetings!')"
   ]
  },
  {
   "cell_type": "markdown",
   "id": "227708ea",
   "metadata": {},
   "source": [
    "### 9.If your programme is stuck in an endless loop, what keys you’ll press?"
   ]
  },
  {
   "cell_type": "markdown",
   "id": "b1399fec",
   "metadata": {},
   "source": [
    "### Answer:\n",
    "If your program is stuck in an endless loop and you want to forcefully terminate it, you can typically press the following key combination:\n",
    "\n",
    "Ctrl+C (or Cmd+C on macOS): This key combination interrupts the execution of the program and forces it to stop. It sends an interrupt signal to the running process, causing it to terminate.\n",
    "\n",
    "Pressing Ctrl+C (or Cmd+C) is a common way to break out of an infinite loop and regain control of your program. However, please note that abruptly terminating a program may not always leave it in a clean state, so use it judiciously and ensure that you save any important work before doing so.\n"
   ]
  },
  {
   "cell_type": "markdown",
   "id": "e4bd8159",
   "metadata": {},
   "source": [
    "### 10. How can you tell the difference between break and continue?"
   ]
  },
  {
   "cell_type": "markdown",
   "id": "50946f40",
   "metadata": {},
   "source": [
    "1. break Statement:\n",
    "   - The break statement is used to exit the current loop prematurely.\n",
    "   - When a break statement is encountered inside a loop, it immediately terminates the loop, and program control moves to the statement immediately following the loop.\n",
    "   - It effectively \"breaks out\" of the loop and does not continue with the remaining iterations.\n",
    "   - break is often used when a specific condition is met, and you want to exit the loop early."
   ]
  },
  {
   "cell_type": "code",
   "execution_count": 11,
   "id": "01ece4d6",
   "metadata": {},
   "outputs": [
    {
     "name": "stdout",
     "output_type": "stream",
     "text": [
      "1\n",
      "2\n"
     ]
    }
   ],
   "source": [
    "for i in range(1, 6):\n",
    "    if i == 3:\n",
    "        break\n",
    "    print(i)"
   ]
  },
  {
   "cell_type": "markdown",
   "id": "ba7764f1",
   "metadata": {},
   "source": [
    "2. continue Statement:\n",
    "   - The continue statement is used to skip the current iteration of a loop and move to the next iteration.\n",
    "   - When a continue statement is encountered inside a loop, it skips the rest of the code in the current iteration and proceeds to the next iteration.\n",
    "   - It is used when you want to skip certain iterations based on a condition but continue the loop."
   ]
  },
  {
   "cell_type": "code",
   "execution_count": 12,
   "id": "d5917b97",
   "metadata": {},
   "outputs": [
    {
     "name": "stdout",
     "output_type": "stream",
     "text": [
      "1\n",
      "2\n",
      "4\n",
      "5\n"
     ]
    }
   ],
   "source": [
    "for i in range(1, 6):\n",
    "    if i == 3:\n",
    "        continue\n",
    "    print(i)"
   ]
  },
  {
   "cell_type": "markdown",
   "id": "294696c7",
   "metadata": {},
   "source": [
    "### 11. In a for loop, what is the difference between range(10), range(0, 10), and range(0, 10, 1)?"
   ]
  },
  {
   "cell_type": "code",
   "execution_count": 16,
   "id": "c1c5c0d8",
   "metadata": {},
   "outputs": [
    {
     "name": "stdout",
     "output_type": "stream",
     "text": [
      "0\n",
      "1\n",
      "2\n",
      "3\n",
      "4\n",
      "5\n",
      "6\n",
      "7\n",
      "8\n",
      "9\n"
     ]
    }
   ],
   "source": [
    "# This generates a sequence of numbers starting from 0 (the default start value) \n",
    "# and ending at 9 (10 - 1)\n",
    "for i in range(10):\n",
    "    print(i)"
   ]
  },
  {
   "cell_type": "code",
   "execution_count": 17,
   "id": "eeb230e9",
   "metadata": {},
   "outputs": [
    {
     "name": "stdout",
     "output_type": "stream",
     "text": [
      "0\n",
      "1\n",
      "2\n",
      "3\n",
      "4\n",
      "5\n",
      "6\n",
      "7\n",
      "8\n",
      "9\n"
     ]
    }
   ],
   "source": [
    "# It explicitly specifies the start value as 0 (which is the default start value) and ends at 9.\n",
    "# The step value is not provided, so it defaults to 1.\n",
    "for i in range(0, 10):\n",
    "    print(i)"
   ]
  },
  {
   "cell_type": "code",
   "execution_count": 18,
   "id": "aea16a87",
   "metadata": {},
   "outputs": [
    {
     "name": "stdout",
     "output_type": "stream",
     "text": [
      "0\n",
      "1\n",
      "2\n",
      "3\n",
      "4\n",
      "5\n",
      "6\n",
      "7\n",
      "8\n",
      "9\n"
     ]
    }
   ],
   "source": [
    "# In this case start value is 0 and end value is 10 and step size is 1\n",
    "for i in range(0, 10, 1):\n",
    "    print(i)"
   ]
  },
  {
   "cell_type": "markdown",
   "id": "322e492e",
   "metadata": {},
   "source": [
    "### 12. Write a short program that prints the numbers 1 to 10 using a for loop. Then write an equivalent program that prints the numbers 1 to 10 using a while loop."
   ]
  },
  {
   "cell_type": "code",
   "execution_count": 20,
   "id": "11accb4c",
   "metadata": {},
   "outputs": [
    {
     "name": "stdout",
     "output_type": "stream",
     "text": [
      "1\n",
      "2\n",
      "3\n",
      "4\n",
      "5\n",
      "6\n",
      "7\n",
      "8\n",
      "9\n",
      "10\n"
     ]
    }
   ],
   "source": [
    "# for loop\n",
    "for i in range(1, 11):  # Loop from 1 to 10 (inclusive)\n",
    "    print(i)"
   ]
  },
  {
   "cell_type": "code",
   "execution_count": 21,
   "id": "c761ebb5",
   "metadata": {},
   "outputs": [
    {
     "name": "stdout",
     "output_type": "stream",
     "text": [
      "1\n",
      "2\n",
      "3\n",
      "4\n",
      "5\n",
      "6\n",
      "7\n",
      "8\n",
      "9\n",
      "10\n"
     ]
    }
   ],
   "source": [
    "# while loop\n",
    "i = 1  # Initialize the counter\n",
    "while i <= 10:  # Continue while i is less than or equal to 10\n",
    "    print(i)\n",
    "    i += 1  # Increment the counter"
   ]
  },
  {
   "cell_type": "markdown",
   "id": "0c2be547",
   "metadata": {},
   "source": [
    "### 13. If you had a function named bacon() inside a module named spam, how would you call it after importing spam?"
   ]
  },
  {
   "cell_type": "markdown",
   "id": "683e12f5",
   "metadata": {},
   "source": [
    "#### Import the spam module\n",
    "import spam  \n",
    "\n",
    "#### Call the bacon() function from the spam module\n",
    "spam.bacon()"
   ]
  },
  {
   "cell_type": "code",
   "execution_count": null,
   "id": "d85c642a",
   "metadata": {},
   "outputs": [],
   "source": []
  }
 ],
 "metadata": {
  "kernelspec": {
   "display_name": "Python 3 (ipykernel)",
   "language": "python",
   "name": "python3"
  },
  "language_info": {
   "codemirror_mode": {
    "name": "ipython",
    "version": 3
   },
   "file_extension": ".py",
   "mimetype": "text/x-python",
   "name": "python",
   "nbconvert_exporter": "python",
   "pygments_lexer": "ipython3",
   "version": "3.9.13"
  }
 },
 "nbformat": 4,
 "nbformat_minor": 5
}
